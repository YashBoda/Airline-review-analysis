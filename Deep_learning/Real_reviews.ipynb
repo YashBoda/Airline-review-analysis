{
 "cells": [
  {
   "cell_type": "code",
   "execution_count": 1,
   "id": "91aaeb35-d7c8-4a2d-8320-418d39352260",
   "metadata": {},
   "outputs": [],
   "source": [
    "# pip install beautifulsoup4\n",
    "\n",
    "# pip install lxml\n",
    "\n",
    "# pip install requests\n",
    "\n",
    "# pip install import-ipynb\n",
    "# \n",
    "# !pip install transformers\n",
    "# !pip install torch\n",
    "# !pip3 install torch torchvision torchaudio\n",
    "# !pip install torch torchvision torchaudio\n",
    "\n",
    "# !pip install tensorflow\n",
    "# !pip install tf-keras\n",
    "# pip install sentence_transformers"
   ]
  },
  {
   "cell_type": "code",
   "execution_count": 2,
   "id": "3f1cd7c0-c4d4-4640-af8b-9072e50e9340",
   "metadata": {},
   "outputs": [],
   "source": [
    "from bs4 import BeautifulSoup\n",
    "import requests\n",
    "import pandas as pd\n",
    "import math\n",
    "import numpy as np"
   ]
  },
  {
   "cell_type": "code",
   "execution_count": 3,
   "id": "0b2884ec-ff39-4b2b-bcd8-99ce0c5def3c",
   "metadata": {},
   "outputs": [],
   "source": [
    "def get_reviews(airline,lim):\n",
    "\n",
    "    page = 1\n",
    "    max_page = math.ceil(lim/10)\n",
    "\n",
    "    review_list=[]\n",
    "\n",
    "    while page <= max_page:\n",
    "            \n",
    "        reviews=[]\n",
    "        \n",
    "        url = f\"https://www.airlinequality.com/airline-reviews/{airline}/page/{page}\"\n",
    "        print(url)\n",
    "        html_content=None\n",
    "        response = requests.get(url)\n",
    "    \n",
    "        if response.status_code==200:\n",
    "            html_content = response.text\n",
    "            \n",
    "        else:\n",
    "            print('Html not fetched')\n",
    "    \n",
    "        soup = BeautifulSoup(html_content, 'lxml' )\n",
    "\n",
    "        div_tags = soup.find_all('div',class_='body')\n",
    "\n",
    "        for tag in div_tags:\n",
    "            reviews.append(tag.find('h2'))\n",
    "\n",
    "        if reviews == []:\n",
    "            break\n",
    "        \n",
    "        if page == max_page:\n",
    "            rem = lim % 10\n",
    "\n",
    "            if rem != 0:\n",
    "                size = len(reviews)\n",
    "                reviews = reviews[:rem - size]\n",
    "\n",
    "        review_list.extend(reviews)\n",
    "\n",
    "        page = page + 1 \n",
    "\n",
    "    review_text = [rt.string for rt in review_list]\n",
    "            \n",
    "    clean_review_text = [crt.rstrip(' ').strip('\"').strip('“').strip('”').strip(',').lower() for crt in review_text]\n",
    "\n",
    "    rev_to_remove = ' '.join(airline.split('-')) + ' customer review'\n",
    "\n",
    "    clean_review_text = list(filter(lambda x: x != rev_to_remove, clean_review_text))\n",
    "\n",
    "    df = pd.Series(clean_review_text)\n",
    "    # df = pd.DataFrame({'reviews': clean_review_text})\n",
    "    return df"
   ]
  },
  {
   "cell_type": "code",
   "execution_count": 4,
   "id": "ccf936a7-3b27-42c0-8ea9-f03f84b69007",
   "metadata": {},
   "outputs": [],
   "source": [
    "# rev = get_reviews('air-zimbabwe',50)"
   ]
  }
 ],
 "metadata": {
  "kernelspec": {
   "display_name": "Python 3 (ipykernel)",
   "language": "python",
   "name": "python3"
  },
  "language_info": {
   "codemirror_mode": {
    "name": "ipython",
    "version": 3
   },
   "file_extension": ".py",
   "mimetype": "text/x-python",
   "name": "python",
   "nbconvert_exporter": "python",
   "pygments_lexer": "ipython3",
   "version": "3.12.7"
  }
 },
 "nbformat": 4,
 "nbformat_minor": 5
}

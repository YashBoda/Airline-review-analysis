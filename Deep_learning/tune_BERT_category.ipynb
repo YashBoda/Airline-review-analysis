{
 "cells": [
  {
   "cell_type": "code",
   "execution_count": 1,
   "id": "afdbba27-e8a1-45ee-b3c8-59936f5fadb5",
   "metadata": {},
   "outputs": [
    {
     "name": "stderr",
     "output_type": "stream",
     "text": [
      "C:\\Users\\yash\\Desktop\\Project\\Scrape_data\\airline-env\\lib\\site-packages\\tqdm\\auto.py:21: TqdmWarning: IProgress not found. Please update jupyter and ipywidgets. See https://ipywidgets.readthedocs.io/en/stable/user_install.html\n",
      "  from .autonotebook import tqdm as notebook_tqdm\n",
      "Some weights of BertForSequenceClassification were not initialized from the model checkpoint at bert-base-uncased and are newly initialized: ['classifier.bias', 'classifier.weight']\n",
      "You should probably TRAIN this model on a down-stream task to be able to use it for predictions and inference.\n",
      "Epoch 1: 100%|██████████| 140/140 [05:00<00:00,  2.15s/it, loss=0.211]\n",
      "Epoch 2: 100%|██████████| 140/140 [05:02<00:00,  2.16s/it, loss=0.196]\n",
      "Epoch 3: 100%|██████████| 140/140 [05:02<00:00,  2.16s/it, loss=0.14]  \n",
      "Epoch 4: 100%|██████████| 140/140 [03:55<00:00,  1.68s/it, loss=0.0917]\n",
      "Epoch 5: 100%|██████████| 140/140 [03:47<00:00,  1.63s/it, loss=0.0731]\n",
      "Epoch 6: 100%|██████████| 140/140 [03:47<00:00,  1.62s/it, loss=0.0946]\n",
      "Epoch 7: 100%|██████████| 140/140 [03:46<00:00,  1.62s/it, loss=0.0483]\n",
      "Epoch 8: 100%|██████████| 140/140 [03:47<00:00,  1.62s/it, loss=0.0744]\n",
      "Epoch 9: 100%|██████████| 140/140 [03:47<00:00,  1.62s/it, loss=0.0683]\n",
      "Epoch 10: 100%|██████████| 140/140 [03:46<00:00,  1.62s/it, loss=0.0541]\n",
      "Epoch 11: 100%|██████████| 140/140 [03:46<00:00,  1.62s/it, loss=0.0378]\n",
      "Epoch 12: 100%|██████████| 140/140 [03:48<00:00,  1.64s/it, loss=0.0533]\n"
     ]
    },
    {
     "name": "stdout",
     "output_type": "stream",
     "text": [
      "Training finished. Average loss: 0.0525\n",
      "✅ Model saved in 'saved_model_new/'\n"
     ]
    }
   ],
   "source": [
    "import pandas as pd\n",
    "import torch\n",
    "from sklearn.preprocessing import MultiLabelBinarizer\n",
    "from sklearn.model_selection import train_test_split\n",
    "from torch.utils.data import Dataset, DataLoader\n",
    "from transformers import BertTokenizer, BertForSequenceClassification, get_scheduler\n",
    "from torch.optim import AdamW\n",
    "from tqdm import tqdm\n",
    "import os\n",
    "import json\n",
    "\n",
    "# 1. Load your dataset\n",
    "df = pd.read_csv('review_category_dataset_new.csv')  # Updated filename\n",
    "df['category'] = df['category'].apply(eval)  # Convert stringified list to Python list\n",
    "\n",
    "# 2. Encode labels into binary format\n",
    "mlb = MultiLabelBinarizer()\n",
    "y = mlb.fit_transform(df['category'])\n",
    "category_list = mlb.classes_  # List of all categories\n",
    "\n",
    "# 3. Tokenizer setup\n",
    "tokenizer = BertTokenizer.from_pretrained('bert-base-uncased')\n",
    "\n",
    "# 4. Dataset class\n",
    "class ReviewDataset(Dataset):\n",
    "    def __init__(self, texts, labels, tokenizer, max_len=256):\n",
    "        self.texts = texts\n",
    "        self.labels = labels\n",
    "        self.tokenizer = tokenizer\n",
    "        self.max_len = max_len\n",
    "\n",
    "    def __len__(self):\n",
    "        return len(self.texts)\n",
    "\n",
    "    def __getitem__(self, idx):\n",
    "        text = str(self.texts[idx])\n",
    "        label = self.labels[idx]\n",
    "        encoding = self.tokenizer(text, padding='max_length', truncation=True, max_length=self.max_len, return_tensors='pt')\n",
    "        return {\n",
    "            'input_ids': encoding['input_ids'].squeeze(0),\n",
    "            'attention_mask': encoding['attention_mask'].squeeze(0),\n",
    "            'labels': torch.FloatTensor(label)\n",
    "        }\n",
    "\n",
    "# 5. Split into train/val\n",
    "X_train, X_val, y_train, y_val = train_test_split(df['reviews'], y, test_size=0.2, random_state=42)\n",
    "\n",
    "train_dataset = ReviewDataset(X_train.tolist(), y_train, tokenizer)\n",
    "val_dataset = ReviewDataset(X_val.tolist(), y_val, tokenizer)\n",
    "\n",
    "train_loader = DataLoader(train_dataset, batch_size=16, shuffle=True, pin_memory=True)\n",
    "val_loader = DataLoader(val_dataset, batch_size=16, pin_memory=True)\n",
    "\n",
    "# 6. Model setup\n",
    "device = torch.device(\"cuda\" if torch.cuda.is_available() else \"cpu\")\n",
    "model = BertForSequenceClassification.from_pretrained(\n",
    "    'bert-base-uncased',\n",
    "    num_labels=len(category_list),\n",
    "    problem_type=\"multi_label_classification\"\n",
    ")\n",
    "model.to(device)\n",
    "\n",
    "# 7. Optimizer and scheduler\n",
    "optimizer = AdamW(model.parameters(), lr=2e-5)\n",
    "num_epochs = 12\n",
    "num_training_steps = num_epochs * len(train_loader)\n",
    "lr_scheduler = get_scheduler(\"linear\", optimizer=optimizer, num_warmup_steps=0, num_training_steps=num_training_steps)\n",
    "\n",
    "# 8. Loss function\n",
    "loss_fn = torch.nn.BCEWithLogitsLoss()\n",
    "\n",
    "# 9. Training loop\n",
    "model.train()\n",
    "for epoch in range(num_epochs):\n",
    "    loop = tqdm(train_loader, leave=True)\n",
    "    total_loss = 0\n",
    "    for batch in loop:\n",
    "        input_ids = batch['input_ids'].to(device)\n",
    "        attention_mask = batch['attention_mask'].to(device)\n",
    "        labels = batch['labels'].to(device)\n",
    "\n",
    "        outputs = model(input_ids=input_ids, attention_mask=attention_mask)\n",
    "        logits = outputs.logits\n",
    "        loss = loss_fn(logits, labels)\n",
    "\n",
    "        loss.backward()\n",
    "        optimizer.step()\n",
    "        lr_scheduler.step()\n",
    "        optimizer.zero_grad()\n",
    "\n",
    "        total_loss += loss.item()\n",
    "        loop.set_description(f\"Epoch {epoch + 1}\")\n",
    "        loop.set_postfix(loss=loss.item())\n",
    "\n",
    "print(f\"Training finished. Average loss: {total_loss / len(train_loader):.4f}\")\n",
    "\n",
    "# 10. Save model, tokenizer, and label classes\n",
    "save_dir = \"saved_model_new\"\n",
    "os.makedirs(save_dir, exist_ok=True)\n",
    "model.save_pretrained(save_dir)\n",
    "tokenizer.save_pretrained(save_dir)\n",
    "\n",
    "with open(f\"{save_dir}/label_classes.json\", \"w\") as f:\n",
    "    json.dump(category_list.tolist(), f)\n",
    "\n",
    "print(f\"✅ Model saved in '{save_dir}/'\")\n"
   ]
  },
  {
   "cell_type": "code",
   "execution_count": 3,
   "id": "47866dde-5028-454b-9435-fcdd71d1137b",
   "metadata": {},
   "outputs": [
    {
     "ename": "SyntaxError",
     "evalue": "invalid syntax. Perhaps you forgot a comma? (2059920983.py, line 1)",
     "output_type": "error",
     "traceback": [
      "\u001b[1;36m  Cell \u001b[1;32mIn[3], line 1\u001b[1;36m\u001b[0m\n\u001b[1;33m    Incresing epochs\u001b[0m\n\u001b[1;37m    ^\u001b[0m\n\u001b[1;31mSyntaxError\u001b[0m\u001b[1;31m:\u001b[0m invalid syntax. Perhaps you forgot a comma?\n"
     ]
    }
   ],
   "source": []
  },
  {
   "cell_type": "code",
   "execution_count": null,
   "id": "0ea908b1-4630-4758-b52b-f73a38cdd9fe",
   "metadata": {},
   "outputs": [],
   "source": []
  },
  {
   "cell_type": "code",
   "execution_count": 1,
   "id": "133712eb-9903-440f-8fa2-7de08b10d0b1",
   "metadata": {},
   "outputs": [
    {
     "name": "stderr",
     "output_type": "stream",
     "text": [
      "C:\\Users\\yash\\Desktop\\Project\\Scrape_data\\airline-env\\lib\\site-packages\\tqdm\\auto.py:21: TqdmWarning: IProgress not found. Please update jupyter and ipywidgets. See https://ipywidgets.readthedocs.io/en/stable/user_install.html\n",
      "  from .autonotebook import tqdm as notebook_tqdm\n",
      "Epoch 13: 100%|██████████| 140/140 [04:08<00:00,  1.78s/it, loss=0.0524]\n"
     ]
    },
    {
     "name": "stdout",
     "output_type": "stream",
     "text": [
      "✅ Epoch 13 | Train Loss: 0.0465 | Val F1: 0.6544\n",
      "🔥 New best model. Saving...\n"
     ]
    },
    {
     "name": "stderr",
     "output_type": "stream",
     "text": [
      "Epoch 14: 100%|██████████| 140/140 [03:45<00:00,  1.61s/it, loss=0.0365]\n"
     ]
    },
    {
     "name": "stdout",
     "output_type": "stream",
     "text": [
      "✅ Epoch 14 | Train Loss: 0.0365 | Val F1: 0.6431\n",
      "📉 No improvement in F1. Patience: 1/3\n"
     ]
    },
    {
     "name": "stderr",
     "output_type": "stream",
     "text": [
      "Epoch 15: 100%|██████████| 140/140 [03:45<00:00,  1.61s/it, loss=0.0357]\n"
     ]
    },
    {
     "name": "stdout",
     "output_type": "stream",
     "text": [
      "✅ Epoch 15 | Train Loss: 0.0300 | Val F1: 0.6862\n",
      "🔥 New best model. Saving...\n"
     ]
    },
    {
     "name": "stderr",
     "output_type": "stream",
     "text": [
      "Epoch 16: 100%|██████████| 140/140 [03:44<00:00,  1.61s/it, loss=0.0282]\n"
     ]
    },
    {
     "name": "stdout",
     "output_type": "stream",
     "text": [
      "✅ Epoch 16 | Train Loss: 0.0248 | Val F1: 0.6883\n",
      "🔥 New best model. Saving...\n"
     ]
    },
    {
     "name": "stderr",
     "output_type": "stream",
     "text": [
      "Epoch 17: 100%|██████████| 140/140 [03:44<00:00,  1.60s/it, loss=0.0199] \n"
     ]
    },
    {
     "name": "stdout",
     "output_type": "stream",
     "text": [
      "✅ Epoch 17 | Train Loss: 0.0217 | Val F1: 0.7083\n",
      "🔥 New best model. Saving...\n"
     ]
    },
    {
     "name": "stderr",
     "output_type": "stream",
     "text": [
      "Epoch 18: 100%|██████████| 140/140 [03:45<00:00,  1.61s/it, loss=0.0153] \n"
     ]
    },
    {
     "name": "stdout",
     "output_type": "stream",
     "text": [
      "✅ Epoch 18 | Train Loss: 0.0189 | Val F1: 0.7232\n",
      "🔥 New best model. Saving...\n"
     ]
    },
    {
     "name": "stderr",
     "output_type": "stream",
     "text": [
      "Epoch 19: 100%|██████████| 140/140 [03:47<00:00,  1.62s/it, loss=0.0275] \n"
     ]
    },
    {
     "name": "stdout",
     "output_type": "stream",
     "text": [
      "✅ Epoch 19 | Train Loss: 0.0167 | Val F1: 0.7427\n",
      "🔥 New best model. Saving...\n"
     ]
    },
    {
     "name": "stderr",
     "output_type": "stream",
     "text": [
      "Epoch 20: 100%|██████████| 140/140 [03:44<00:00,  1.60s/it, loss=0.0235] \n"
     ]
    },
    {
     "name": "stdout",
     "output_type": "stream",
     "text": [
      "✅ Epoch 20 | Train Loss: 0.0151 | Val F1: 0.7819\n",
      "🔥 New best model. Saving...\n"
     ]
    },
    {
     "name": "stderr",
     "output_type": "stream",
     "text": [
      "Epoch 21: 100%|██████████| 140/140 [03:45<00:00,  1.61s/it, loss=0.0168] \n"
     ]
    },
    {
     "name": "stdout",
     "output_type": "stream",
     "text": [
      "✅ Epoch 21 | Train Loss: 0.0139 | Val F1: 0.7561\n",
      "📉 No improvement in F1. Patience: 1/3\n"
     ]
    },
    {
     "name": "stderr",
     "output_type": "stream",
     "text": [
      "Epoch 22: 100%|██████████| 140/140 [03:45<00:00,  1.61s/it, loss=0.00933]\n"
     ]
    },
    {
     "name": "stdout",
     "output_type": "stream",
     "text": [
      "✅ Epoch 22 | Train Loss: 0.0127 | Val F1: 0.8138\n",
      "🔥 New best model. Saving...\n"
     ]
    },
    {
     "name": "stderr",
     "output_type": "stream",
     "text": [
      "Epoch 23: 100%|██████████| 140/140 [03:45<00:00,  1.61s/it, loss=0.0179] \n"
     ]
    },
    {
     "name": "stdout",
     "output_type": "stream",
     "text": [
      "✅ Epoch 23 | Train Loss: 0.0116 | Val F1: 0.8141\n",
      "🔥 New best model. Saving...\n"
     ]
    },
    {
     "name": "stderr",
     "output_type": "stream",
     "text": [
      "Epoch 24: 100%|██████████| 140/140 [03:44<00:00,  1.61s/it, loss=0.0141] \n"
     ]
    },
    {
     "name": "stdout",
     "output_type": "stream",
     "text": [
      "✅ Epoch 24 | Train Loss: 0.0110 | Val F1: 0.8149\n",
      "🔥 New best model. Saving...\n"
     ]
    },
    {
     "name": "stderr",
     "output_type": "stream",
     "text": [
      "Epoch 25: 100%|██████████| 140/140 [03:44<00:00,  1.61s/it, loss=0.0075] \n"
     ]
    },
    {
     "name": "stdout",
     "output_type": "stream",
     "text": [
      "✅ Epoch 25 | Train Loss: 0.0104 | Val F1: 0.8165\n",
      "🔥 New best model. Saving...\n"
     ]
    },
    {
     "name": "stderr",
     "output_type": "stream",
     "text": [
      "Epoch 26: 100%|██████████| 140/140 [03:45<00:00,  1.61s/it, loss=0.0141] \n"
     ]
    },
    {
     "name": "stdout",
     "output_type": "stream",
     "text": [
      "✅ Epoch 26 | Train Loss: 0.0098 | Val F1: 0.8395\n",
      "🔥 New best model. Saving...\n"
     ]
    },
    {
     "name": "stderr",
     "output_type": "stream",
     "text": [
      "Epoch 27: 100%|██████████| 140/140 [03:45<00:00,  1.61s/it, loss=0.0118] \n"
     ]
    },
    {
     "name": "stdout",
     "output_type": "stream",
     "text": [
      "✅ Epoch 27 | Train Loss: 0.0094 | Val F1: 0.8351\n",
      "📉 No improvement in F1. Patience: 1/3\n"
     ]
    },
    {
     "name": "stderr",
     "output_type": "stream",
     "text": [
      "Epoch 28: 100%|██████████| 140/140 [03:45<00:00,  1.61s/it, loss=0.0111] \n"
     ]
    },
    {
     "name": "stdout",
     "output_type": "stream",
     "text": [
      "✅ Epoch 28 | Train Loss: 0.0092 | Val F1: 0.8214\n",
      "📉 No improvement in F1. Patience: 2/3\n"
     ]
    },
    {
     "name": "stderr",
     "output_type": "stream",
     "text": [
      "Epoch 29: 100%|██████████| 140/140 [03:45<00:00,  1.61s/it, loss=0.00862]\n"
     ]
    },
    {
     "name": "stdout",
     "output_type": "stream",
     "text": [
      "✅ Epoch 29 | Train Loss: 0.0089 | Val F1: 0.8326\n",
      "📉 No improvement in F1. Patience: 3/3\n",
      "⛔ Early stopping triggered.\n",
      "🎉 Training complete.\n"
     ]
    }
   ],
   "source": [
    "import pandas as pd\n",
    "import torch\n",
    "from sklearn.preprocessing import MultiLabelBinarizer\n",
    "from sklearn.model_selection import train_test_split\n",
    "from sklearn.metrics import f1_score\n",
    "from torch.utils.data import Dataset, DataLoader\n",
    "from transformers import BertTokenizer, BertForSequenceClassification, get_scheduler\n",
    "from torch.optim import AdamW\n",
    "from tqdm import tqdm\n",
    "import os\n",
    "import json\n",
    "\n",
    "# 1. Load your dataset\n",
    "df = pd.read_csv('review_category_dataset_new.csv')\n",
    "df['category'] = df['category'].apply(eval)\n",
    "\n",
    "# 2. Encode labels into binary format\n",
    "mlb = MultiLabelBinarizer()\n",
    "y = mlb.fit_transform(df['category'])\n",
    "category_list = mlb.classes_\n",
    "\n",
    "# 3. Tokenizer and Dataset setup\n",
    "tokenizer = BertTokenizer.from_pretrained('saved_model_new')\n",
    "class ReviewDataset(Dataset):\n",
    "    def __init__(self, texts, labels, tokenizer, max_len=256):\n",
    "        self.texts = texts\n",
    "        self.labels = labels\n",
    "        self.tokenizer = tokenizer\n",
    "        self.max_len = max_len\n",
    "\n",
    "    def __len__(self):\n",
    "        return len(self.texts)\n",
    "\n",
    "    def __getitem__(self, idx):\n",
    "        text = str(self.texts[idx])\n",
    "        label = self.labels[idx]\n",
    "        encoding = self.tokenizer(text, padding='max_length', truncation=True, max_length=self.max_len, return_tensors='pt')\n",
    "        return {\n",
    "            'input_ids': encoding['input_ids'].squeeze(0),\n",
    "            'attention_mask': encoding['attention_mask'].squeeze(0),\n",
    "            'labels': torch.FloatTensor(label)\n",
    "        }\n",
    "\n",
    "# 4. Train/val split\n",
    "X_train, X_val, y_train, y_val = train_test_split(df['reviews'], y, test_size=0.2, random_state=42)\n",
    "train_dataset = ReviewDataset(X_train.tolist(), y_train, tokenizer)\n",
    "val_dataset = ReviewDataset(X_val.tolist(), y_val, tokenizer)\n",
    "train_loader = DataLoader(train_dataset, batch_size=16, shuffle=True)\n",
    "val_loader = DataLoader(val_dataset, batch_size=16)\n",
    "\n",
    "# 5. Load previously trained model\n",
    "device = torch.device(\"cuda\" if torch.cuda.is_available() else \"cpu\")\n",
    "model = BertForSequenceClassification.from_pretrained(\"saved_model_new\")\n",
    "model.to(device)\n",
    "\n",
    "# 6. Optimizer and scheduler\n",
    "optimizer = AdamW(model.parameters(), lr=2e-5)\n",
    "total_epochs = 30\n",
    "starting_epoch = 12\n",
    "loss_fn = torch.nn.BCEWithLogitsLoss()\n",
    "\n",
    "num_training_steps = (total_epochs - starting_epoch) * len(train_loader)\n",
    "lr_scheduler = get_scheduler(\"linear\", optimizer=optimizer, num_warmup_steps=0, num_training_steps=num_training_steps)\n",
    "\n",
    "# 7. Evaluation\n",
    "def evaluate_model(val_loader):\n",
    "    model.eval()\n",
    "    all_preds, all_labels = [], []\n",
    "    with torch.no_grad():\n",
    "        for batch in val_loader:\n",
    "            input_ids = batch['input_ids'].to(device)\n",
    "            attention_mask = batch['attention_mask'].to(device)\n",
    "            labels = batch['labels'].cpu().numpy()\n",
    "\n",
    "            outputs = model(input_ids=input_ids, attention_mask=attention_mask)\n",
    "            probs = torch.sigmoid(outputs.logits).cpu().numpy()\n",
    "            preds = (probs >= 0.5).astype(int)\n",
    "\n",
    "            all_preds.extend(preds)\n",
    "            all_labels.extend(labels)\n",
    "\n",
    "    return f1_score(all_labels, all_preds, average='macro')\n",
    "\n",
    "# 8. Continue training from epoch 13 with early stopping\n",
    "best_f1 = 0\n",
    "patience = 3\n",
    "wait = 0\n",
    "\n",
    "for epoch in range(starting_epoch, total_epochs):\n",
    "    model.train()\n",
    "    loop = tqdm(train_loader, leave=True)\n",
    "    total_loss = 0\n",
    "\n",
    "    for batch in loop:\n",
    "        input_ids = batch['input_ids'].to(device)\n",
    "        attention_mask = batch['attention_mask'].to(device)\n",
    "        labels = batch['labels'].to(device)\n",
    "\n",
    "        outputs = model(input_ids=input_ids, attention_mask=attention_mask)\n",
    "        loss = loss_fn(outputs.logits, labels)\n",
    "\n",
    "        loss.backward()\n",
    "        optimizer.step()\n",
    "        lr_scheduler.step()\n",
    "        optimizer.zero_grad()\n",
    "\n",
    "        total_loss += loss.item()\n",
    "        loop.set_description(f\"Epoch {epoch + 1}\")\n",
    "        loop.set_postfix(loss=loss.item())\n",
    "\n",
    "    avg_loss = total_loss / len(train_loader)\n",
    "    val_f1 = evaluate_model(val_loader)\n",
    "    print(f\"✅ Epoch {epoch+1} | Train Loss: {avg_loss:.4f} | Val F1: {val_f1:.4f}\")\n",
    "\n",
    "    if val_f1 > best_f1:\n",
    "        best_f1 = val_f1\n",
    "        wait = 0\n",
    "        print(\"🔥 New best model. Saving...\")\n",
    "        model.save_pretrained(\"saved_model_new\")\n",
    "        tokenizer.save_pretrained(\"saved_model_new\")\n",
    "        with open(\"saved_model_new/label_classes.json\", \"w\") as f:\n",
    "            json.dump(category_list.tolist(), f)\n",
    "    else:\n",
    "        wait += 1\n",
    "        print(f\"📉 No improvement in F1. Patience: {wait}/{patience}\")\n",
    "        if wait >= patience:\n",
    "            print(\"⛔ Early stopping triggered.\")\n",
    "            break\n",
    "\n",
    "print(\"🎉 Training complete.\")\n"
   ]
  },
  {
   "cell_type": "code",
   "execution_count": null,
   "id": "ef418a3f-7643-4913-b4af-75598f4c8e48",
   "metadata": {},
   "outputs": [],
   "source": []
  }
 ],
 "metadata": {
  "kernelspec": {
   "display_name": "Python (airline-env)",
   "language": "python",
   "name": "airline-env"
  },
  "language_info": {
   "codemirror_mode": {
    "name": "ipython",
    "version": 3
   },
   "file_extension": ".py",
   "mimetype": "text/x-python",
   "name": "python",
   "nbconvert_exporter": "python",
   "pygments_lexer": "ipython3",
   "version": "3.10.0"
  }
 },
 "nbformat": 4,
 "nbformat_minor": 5
}

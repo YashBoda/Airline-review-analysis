{
 "cells": [
  {
   "cell_type": "code",
   "execution_count": 1,
   "id": "a5db7000-bdbe-4f8a-8d98-1fcec347a704",
   "metadata": {},
   "outputs": [],
   "source": [
    "# import sys\n",
    "# !{sys.executable} -m pip install lxml"
   ]
  },
  {
   "cell_type": "code",
   "execution_count": 2,
   "id": "9cc6855c-4272-42ed-92f3-097dac43668f",
   "metadata": {},
   "outputs": [],
   "source": [
    "from bs4 import BeautifulSoup\n",
    "import requests"
   ]
  },
  {
   "cell_type": "code",
   "execution_count": 3,
   "id": "2ee8a215-66f9-439b-b934-c23c7f250811",
   "metadata": {},
   "outputs": [],
   "source": [
    "url = 'https://www.airlinequality.com/review-pages/a-z-airline-reviews/'"
   ]
  },
  {
   "cell_type": "code",
   "execution_count": 4,
   "id": "d7d853e9-eb25-4ab6-940c-44adf25f157b",
   "metadata": {},
   "outputs": [],
   "source": [
    "response = requests.get(url)\n",
    "html_content = response.text"
   ]
  },
  {
   "cell_type": "code",
   "execution_count": 5,
   "id": "21d9a646-3b5d-4934-a7f5-dfd83a533c8b",
   "metadata": {},
   "outputs": [],
   "source": [
    "soup = BeautifulSoup(html_content,'lxml')"
   ]
  },
  {
   "cell_type": "code",
   "execution_count": 6,
   "id": "139ffd4b-88ef-4969-aa41-427394d05adb",
   "metadata": {},
   "outputs": [],
   "source": [
    "cols = soup.find_all('ul',class_='items')"
   ]
  },
  {
   "cell_type": "code",
   "execution_count": 7,
   "id": "299ad7a9-ed67-4406-a883-7a9705dc81e1",
   "metadata": {
    "scrolled": true
   },
   "outputs": [],
   "source": [
    "airline_names = []\n",
    "for i in range(101):\n",
    "    \n",
    "    for itm in soup.find_all('ul',class_='items')[i].find_all('li'):\n",
    "        airline_names.append(itm.find('a')['href'].rsplit('/',1)[-1])\n",
    "\n",
    "if __name__ == \"__main__\":\n",
    "    len(airline_names)"
   ]
  },
  {
   "cell_type": "code",
   "execution_count": 8,
   "id": "37731bf2-14d3-4543-8b62-43e0b510fe6c",
   "metadata": {},
   "outputs": [],
   "source": [
    "def get_airline_names(str_=''):\n",
    "\n",
    "    if len(str_)>2:\n",
    "        return [airline_name for airline_name in airline_names if str_.lower().replace(' ','-') in airline_name.lower()]\n",
    "    else:\n",
    "        return []"
   ]
  },
  {
   "cell_type": "code",
   "execution_count": 9,
   "id": "87165e1b-1455-44d4-8edb-171b6e82f2e1",
   "metadata": {},
   "outputs": [],
   "source": [
    "def get_all_airline_names():\n",
    "    return airline_names"
   ]
  }
 ],
 "metadata": {
  "kernelspec": {
   "display_name": "Python 3 (ipykernel)",
   "language": "python",
   "name": "python3"
  },
  "language_info": {
   "codemirror_mode": {
    "name": "ipython",
    "version": 3
   },
   "file_extension": ".py",
   "mimetype": "text/x-python",
   "name": "python",
   "nbconvert_exporter": "python",
   "pygments_lexer": "ipython3",
   "version": "3.12.7"
  }
 },
 "nbformat": 4,
 "nbformat_minor": 5
}

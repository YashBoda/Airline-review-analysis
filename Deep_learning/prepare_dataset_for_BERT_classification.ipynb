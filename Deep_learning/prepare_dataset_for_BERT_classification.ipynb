{
 "cells": [
  {
   "cell_type": "code",
   "execution_count": 2,
   "id": "91bfbae7-5607-48f3-b738-78da99f3905f",
   "metadata": {},
   "outputs": [],
   "source": [
    "import pandas as pd\n",
    "import numpy as np\n",
    "import import_ipynb"
   ]
  },
  {
   "cell_type": "code",
   "execution_count": 3,
   "id": "d8606647-313e-4cda-8ec7-866a46a658bf",
   "metadata": {},
   "outputs": [
    {
     "name": "stderr",
     "output_type": "stream",
     "text": [
      "C:\\Users\\yash\\Desktop\\Project\\Scrape_data\\airline-env\\lib\\site-packages\\tqdm\\auto.py:21: TqdmWarning: IProgress not found. Please update jupyter and ipywidgets. See https://ipywidgets.readthedocs.io/en/stable/user_install.html\n",
      "  from .autonotebook import tqdm as notebook_tqdm\n",
      "C:\\Users\\yash\\Desktop\\Project\\Scrape_data\\airline-env\\lib\\site-packages\\sklearn\\base.py:380: InconsistentVersionWarning: Trying to unpickle estimator LabelEncoder from version 1.5.1 when using version 1.6.1. This might lead to breaking code or invalid results. Use at your own risk. For more info please refer to:\n",
      "https://scikit-learn.org/stable/model_persistence.html#security-maintainability-limitations\n",
      "  warnings.warn(\n"
     ]
    }
   ],
   "source": [
    "from get_airline_names_ import get_all_airline_names\n",
    "from Real_reviews import get_reviews\n",
    "from nlp_modals import get_category"
   ]
  },
  {
   "cell_type": "code",
   "execution_count": 6,
   "id": "42260f31-c62d-4161-b702-ec78054c2383",
   "metadata": {},
   "outputs": [],
   "source": [
    "all_airlines = get_all_airline_names()"
   ]
  },
  {
   "cell_type": "code",
   "execution_count": 7,
   "id": "071c6215-9512-4e74-a2a2-bf28c73582fa",
   "metadata": {},
   "outputs": [
    {
     "data": {
      "text/plain": [
       "572"
      ]
     },
     "execution_count": 7,
     "metadata": {},
     "output_type": "execute_result"
    }
   ],
   "source": [
    "len(all_airlines)"
   ]
  },
  {
   "cell_type": "code",
   "execution_count": 8,
   "id": "e56343f7-b1d0-43df-b3fb-1ae9251b25af",
   "metadata": {},
   "outputs": [],
   "source": [
    "df = pd.read_csv('reviews.csv')"
   ]
  },
  {
   "cell_type": "code",
   "execution_count": 9,
   "id": "134ed65e-f30b-482c-8fe6-053a5690e548",
   "metadata": {},
   "outputs": [
    {
     "data": {
      "text/html": [
       "<div>\n",
       "<style scoped>\n",
       "    .dataframe tbody tr th:only-of-type {\n",
       "        vertical-align: middle;\n",
       "    }\n",
       "\n",
       "    .dataframe tbody tr th {\n",
       "        vertical-align: top;\n",
       "    }\n",
       "\n",
       "    .dataframe thead th {\n",
       "        text-align: right;\n",
       "    }\n",
       "</style>\n",
       "<table border=\"1\" class=\"dataframe\">\n",
       "  <thead>\n",
       "    <tr style=\"text-align: right;\">\n",
       "      <th></th>\n",
       "      <th>reviews</th>\n",
       "    </tr>\n",
       "  </thead>\n",
       "  <tbody>\n",
       "    <tr>\n",
       "      <th>0</th>\n",
       "      <td>pretty decent airline</td>\n",
       "    </tr>\n",
       "    <tr>\n",
       "      <th>1</th>\n",
       "      <td>not a good airline</td>\n",
       "    </tr>\n",
       "    <tr>\n",
       "      <th>2</th>\n",
       "      <td>flight was fortunately short</td>\n",
       "    </tr>\n",
       "    <tr>\n",
       "      <th>3</th>\n",
       "      <td>i will never fly again with adria</td>\n",
       "    </tr>\n",
       "    <tr>\n",
       "      <th>4</th>\n",
       "      <td>it ruined our last days of holidays</td>\n",
       "    </tr>\n",
       "    <tr>\n",
       "      <th>...</th>\n",
       "      <td>...</td>\n",
       "    </tr>\n",
       "    <tr>\n",
       "      <th>4224</th>\n",
       "      <td>trip was pleasant in general</td>\n",
       "    </tr>\n",
       "    <tr>\n",
       "      <th>4225</th>\n",
       "      <td>unaccommodating staff</td>\n",
       "    </tr>\n",
       "    <tr>\n",
       "      <th>4226</th>\n",
       "      <td>you get what you paid for</td>\n",
       "    </tr>\n",
       "    <tr>\n",
       "      <th>4227</th>\n",
       "      <td>very bad customer service</td>\n",
       "    </tr>\n",
       "    <tr>\n",
       "      <th>4228</th>\n",
       "      <td>i was pleasantly surprised</td>\n",
       "    </tr>\n",
       "  </tbody>\n",
       "</table>\n",
       "<p>4229 rows × 1 columns</p>\n",
       "</div>"
      ],
      "text/plain": [
       "                                  reviews\n",
       "0                   pretty decent airline\n",
       "1                      not a good airline\n",
       "2            flight was fortunately short\n",
       "3       i will never fly again with adria\n",
       "4     it ruined our last days of holidays\n",
       "...                                   ...\n",
       "4224         trip was pleasant in general\n",
       "4225                unaccommodating staff\n",
       "4226            you get what you paid for\n",
       "4227            very bad customer service\n",
       "4228           i was pleasantly surprised\n",
       "\n",
       "[4229 rows x 1 columns]"
      ]
     },
     "execution_count": 9,
     "metadata": {},
     "output_type": "execute_result"
    }
   ],
   "source": [
    "df"
   ]
  },
  {
   "cell_type": "code",
   "execution_count": 10,
   "id": "ef49e60e-4580-4cd0-b2be-5995cd286350",
   "metadata": {},
   "outputs": [],
   "source": [
    "df['category'] = pd.Series(get_category(df['reviews']))"
   ]
  },
  {
   "cell_type": "code",
   "execution_count": 11,
   "id": "6102153c-1273-4b7b-93c5-13d0f034cb50",
   "metadata": {},
   "outputs": [
    {
     "data": {
      "text/html": [
       "<div>\n",
       "<style scoped>\n",
       "    .dataframe tbody tr th:only-of-type {\n",
       "        vertical-align: middle;\n",
       "    }\n",
       "\n",
       "    .dataframe tbody tr th {\n",
       "        vertical-align: top;\n",
       "    }\n",
       "\n",
       "    .dataframe thead th {\n",
       "        text-align: right;\n",
       "    }\n",
       "</style>\n",
       "<table border=\"1\" class=\"dataframe\">\n",
       "  <thead>\n",
       "    <tr style=\"text-align: right;\">\n",
       "      <th></th>\n",
       "      <th>reviews</th>\n",
       "      <th>category</th>\n",
       "    </tr>\n",
       "  </thead>\n",
       "  <tbody>\n",
       "    <tr>\n",
       "      <th>0</th>\n",
       "      <td>pretty decent airline</td>\n",
       "      <td>Cabin Environment,Boarding Process</td>\n",
       "    </tr>\n",
       "    <tr>\n",
       "      <th>1</th>\n",
       "      <td>not a good airline</td>\n",
       "      <td>Cabin Environment,Boarding Process</td>\n",
       "    </tr>\n",
       "    <tr>\n",
       "      <th>2</th>\n",
       "      <td>flight was fortunately short</td>\n",
       "      <td>Miscellaneous</td>\n",
       "    </tr>\n",
       "    <tr>\n",
       "      <th>3</th>\n",
       "      <td>i will never fly again with adria</td>\n",
       "      <td>Miscellaneous</td>\n",
       "    </tr>\n",
       "    <tr>\n",
       "      <th>4</th>\n",
       "      <td>it ruined our last days of holidays</td>\n",
       "      <td>Miscellaneous</td>\n",
       "    </tr>\n",
       "    <tr>\n",
       "      <th>...</th>\n",
       "      <td>...</td>\n",
       "      <td>...</td>\n",
       "    </tr>\n",
       "    <tr>\n",
       "      <th>4224</th>\n",
       "      <td>trip was pleasant in general</td>\n",
       "      <td>Miscellaneous</td>\n",
       "    </tr>\n",
       "    <tr>\n",
       "      <th>4225</th>\n",
       "      <td>unaccommodating staff</td>\n",
       "      <td>Staff Behaviour</td>\n",
       "    </tr>\n",
       "    <tr>\n",
       "      <th>4226</th>\n",
       "      <td>you get what you paid for</td>\n",
       "      <td>Miscellaneous</td>\n",
       "    </tr>\n",
       "    <tr>\n",
       "      <th>4227</th>\n",
       "      <td>very bad customer service</td>\n",
       "      <td>Staff Behaviour,Customer Service,In-flight Exp...</td>\n",
       "    </tr>\n",
       "    <tr>\n",
       "      <th>4228</th>\n",
       "      <td>i was pleasantly surprised</td>\n",
       "      <td>Miscellaneous</td>\n",
       "    </tr>\n",
       "  </tbody>\n",
       "</table>\n",
       "<p>4229 rows × 2 columns</p>\n",
       "</div>"
      ],
      "text/plain": [
       "                                  reviews  \\\n",
       "0                   pretty decent airline   \n",
       "1                      not a good airline   \n",
       "2            flight was fortunately short   \n",
       "3       i will never fly again with adria   \n",
       "4     it ruined our last days of holidays   \n",
       "...                                   ...   \n",
       "4224         trip was pleasant in general   \n",
       "4225                unaccommodating staff   \n",
       "4226            you get what you paid for   \n",
       "4227            very bad customer service   \n",
       "4228           i was pleasantly surprised   \n",
       "\n",
       "                                               category  \n",
       "0                    Cabin Environment,Boarding Process  \n",
       "1                    Cabin Environment,Boarding Process  \n",
       "2                                         Miscellaneous  \n",
       "3                                         Miscellaneous  \n",
       "4                                         Miscellaneous  \n",
       "...                                                 ...  \n",
       "4224                                      Miscellaneous  \n",
       "4225                                    Staff Behaviour  \n",
       "4226                                      Miscellaneous  \n",
       "4227  Staff Behaviour,Customer Service,In-flight Exp...  \n",
       "4228                                      Miscellaneous  \n",
       "\n",
       "[4229 rows x 2 columns]"
      ]
     },
     "execution_count": 11,
     "metadata": {},
     "output_type": "execute_result"
    }
   ],
   "source": [
    "df"
   ]
  },
  {
   "cell_type": "code",
   "execution_count": 14,
   "id": "ae818ee0-894b-4721-8ca3-181de2bf20cd",
   "metadata": {},
   "outputs": [],
   "source": [
    "df = df[df['category']!='Miscellaneous']"
   ]
  },
  {
   "cell_type": "code",
   "execution_count": 15,
   "id": "5d01ee10-828e-4d2d-bd78-0a15f15396b2",
   "metadata": {},
   "outputs": [
    {
     "name": "stderr",
     "output_type": "stream",
     "text": [
      "C:\\Users\\yash\\AppData\\Local\\Temp\\ipykernel_19668\\3998387990.py:1: SettingWithCopyWarning: \n",
      "A value is trying to be set on a copy of a slice from a DataFrame.\n",
      "Try using .loc[row_indexer,col_indexer] = value instead\n",
      "\n",
      "See the caveats in the documentation: https://pandas.pydata.org/pandas-docs/stable/user_guide/indexing.html#returning-a-view-versus-a-copy\n",
      "  df['category'] = df['category'].str.split(',')\n"
     ]
    }
   ],
   "source": [
    "df['category'] = df['category'].str.split(',')"
   ]
  },
  {
   "cell_type": "code",
   "execution_count": 16,
   "id": "5762a99b-574d-4428-becc-6503bf994fcf",
   "metadata": {},
   "outputs": [
    {
     "data": {
      "text/html": [
       "<div>\n",
       "<style scoped>\n",
       "    .dataframe tbody tr th:only-of-type {\n",
       "        vertical-align: middle;\n",
       "    }\n",
       "\n",
       "    .dataframe tbody tr th {\n",
       "        vertical-align: top;\n",
       "    }\n",
       "\n",
       "    .dataframe thead th {\n",
       "        text-align: right;\n",
       "    }\n",
       "</style>\n",
       "<table border=\"1\" class=\"dataframe\">\n",
       "  <thead>\n",
       "    <tr style=\"text-align: right;\">\n",
       "      <th></th>\n",
       "      <th>reviews</th>\n",
       "      <th>category</th>\n",
       "    </tr>\n",
       "  </thead>\n",
       "  <tbody>\n",
       "    <tr>\n",
       "      <th>0</th>\n",
       "      <td>pretty decent airline</td>\n",
       "      <td>[Cabin Environment, Boarding Process]</td>\n",
       "    </tr>\n",
       "    <tr>\n",
       "      <th>1</th>\n",
       "      <td>not a good airline</td>\n",
       "      <td>[Cabin Environment, Boarding Process]</td>\n",
       "    </tr>\n",
       "    <tr>\n",
       "      <th>5</th>\n",
       "      <td>had very bad experience</td>\n",
       "      <td>[In-flight Experience]</td>\n",
       "    </tr>\n",
       "    <tr>\n",
       "      <th>6</th>\n",
       "      <td>worse than the budget airlines</td>\n",
       "      <td>[Value for Money, Cabin Environment, Boarding ...</td>\n",
       "    </tr>\n",
       "    <tr>\n",
       "      <th>9</th>\n",
       "      <td>the crew was nice</td>\n",
       "      <td>[Staff Behaviour, In-flight Experience]</td>\n",
       "    </tr>\n",
       "    <tr>\n",
       "      <th>...</th>\n",
       "      <td>...</td>\n",
       "      <td>...</td>\n",
       "    </tr>\n",
       "    <tr>\n",
       "      <th>4219</th>\n",
       "      <td>everything costs extra</td>\n",
       "      <td>[Value for Money]</td>\n",
       "    </tr>\n",
       "    <tr>\n",
       "      <th>4220</th>\n",
       "      <td>no food on board served for free</td>\n",
       "      <td>[Food &amp; Beverages, In-flight Experience]</td>\n",
       "    </tr>\n",
       "    <tr>\n",
       "      <th>4222</th>\n",
       "      <td>flight is more affordable</td>\n",
       "      <td>[Value for Money]</td>\n",
       "    </tr>\n",
       "    <tr>\n",
       "      <th>4225</th>\n",
       "      <td>unaccommodating staff</td>\n",
       "      <td>[Staff Behaviour]</td>\n",
       "    </tr>\n",
       "    <tr>\n",
       "      <th>4227</th>\n",
       "      <td>very bad customer service</td>\n",
       "      <td>[Staff Behaviour, Customer Service, In-flight ...</td>\n",
       "    </tr>\n",
       "  </tbody>\n",
       "</table>\n",
       "<p>2799 rows × 2 columns</p>\n",
       "</div>"
      ],
      "text/plain": [
       "                               reviews  \\\n",
       "0                pretty decent airline   \n",
       "1                   not a good airline   \n",
       "5              had very bad experience   \n",
       "6       worse than the budget airlines   \n",
       "9                    the crew was nice   \n",
       "...                                ...   \n",
       "4219            everything costs extra   \n",
       "4220  no food on board served for free   \n",
       "4222         flight is more affordable   \n",
       "4225             unaccommodating staff   \n",
       "4227         very bad customer service   \n",
       "\n",
       "                                               category  \n",
       "0                 [Cabin Environment, Boarding Process]  \n",
       "1                 [Cabin Environment, Boarding Process]  \n",
       "5                                [In-flight Experience]  \n",
       "6     [Value for Money, Cabin Environment, Boarding ...  \n",
       "9               [Staff Behaviour, In-flight Experience]  \n",
       "...                                                 ...  \n",
       "4219                                  [Value for Money]  \n",
       "4220           [Food & Beverages, In-flight Experience]  \n",
       "4222                                  [Value for Money]  \n",
       "4225                                  [Staff Behaviour]  \n",
       "4227  [Staff Behaviour, Customer Service, In-flight ...  \n",
       "\n",
       "[2799 rows x 2 columns]"
      ]
     },
     "execution_count": 16,
     "metadata": {},
     "output_type": "execute_result"
    }
   ],
   "source": [
    "df"
   ]
  },
  {
   "cell_type": "code",
   "execution_count": 17,
   "id": "4ea628a1-126a-4b1f-a58a-08fb0fa16d61",
   "metadata": {},
   "outputs": [],
   "source": [
    "df.to_csv('review_category_dataset_new.csv',index=False)"
   ]
  }
 ],
 "metadata": {
  "kernelspec": {
   "display_name": "Python (airline-env)",
   "language": "python",
   "name": "airline-env"
  },
  "language_info": {
   "codemirror_mode": {
    "name": "ipython",
    "version": 3
   },
   "file_extension": ".py",
   "mimetype": "text/x-python",
   "name": "python",
   "nbconvert_exporter": "python",
   "pygments_lexer": "ipython3",
   "version": "3.10.0"
  }
 },
 "nbformat": 4,
 "nbformat_minor": 5
}
